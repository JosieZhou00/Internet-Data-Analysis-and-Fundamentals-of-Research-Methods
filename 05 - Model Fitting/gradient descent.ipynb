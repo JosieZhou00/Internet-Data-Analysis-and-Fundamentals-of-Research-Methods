{
 "cells": [
  {
   "cell_type": "code",
   "execution_count": 1,
   "id": "d0facdd4",
   "metadata": {},
   "outputs": [],
   "source": [
    "import numpy as np\n",
    "import random"
   ]
  },
  {
   "cell_type": "code",
   "execution_count": 2,
   "id": "89008f99",
   "metadata": {},
   "outputs": [],
   "source": [
    "def genData(numPoints, A, K, variance):\n",
    "    x = np.zeros(shape=(numPoints, 2))\n",
    "    y = np.zeros(shape=numPoints)\n",
    "    for i in range(0, numPoints):\n",
    "        x[i][0] = 1\n",
    "        x[i][1] = i\n",
    "        y[i] = (A * i + K) + random.uniform(0,1) * variance\n",
    "    return x,y"
   ]
  },
  {
   "cell_type": "code",
   "execution_count": 3,
   "id": "f0c91667",
   "metadata": {},
   "outputs": [],
   "source": [
    "x, y = genData(numPoints=100, A=2, K=100, variance=30)"
   ]
  },
  {
   "cell_type": "code",
   "execution_count": 4,
   "id": "0fb94112",
   "metadata": {},
   "outputs": [
    {
     "data": {
      "text/plain": [
       "<function matplotlib.pyplot.plot(*args, scalex=True, scaley=True, data=None, **kwargs)>"
      ]
     },
     "execution_count": 4,
     "metadata": {},
     "output_type": "execute_result"
    },
    {
     "data": {
      "image/png": "[encoded data removed]",
      "text/plain": [
       "<Figure size 504x360 with 1 Axes>"
      ]
     },
     "metadata": {
      "needs_background": "light"
     },
     "output_type": "display_data"
    }
   ],
   "source": [
    "%matplotlib inline\n",
    "import seaborn as sns\n",
    "import matplotlib.pyplot as plt\n",
    "\n",
    "fig = plt.figure(figsize=(7,5))\n",
    "fig = sns.scatterplot(x = x[:,1], y=y)\n",
    "fig.set(xlabel = \"x\", ylabel = \"y\", title='Graph of y = 2.x + 100 + random.uniform(30)')\n",
    "plt.plot\n"
   ]
  },
  {
   "cell_type": "code",
   "execution_count": 5,
   "id": "74eef7a6",
   "metadata": {},
   "outputs": [
    {
     "name": "stdout",
     "output_type": "stream",
     "text": [
      "m(Length)=  100 and n (width)= 2\n"
     ]
    }
   ],
   "source": [
    "m, n = np.shape(x)\n",
    "print(\"m(Length)= \", m, \"and n (width)=\", n)"
   ]
  },
  {
   "cell_type": "code",
   "execution_count": 6,
   "id": "7e0738b1",
   "metadata": {},
   "outputs": [
    {
     "data": {
      "text/plain": [
       "array([[1., 0.],\n",
       "       [1., 1.],\n",
       "       [1., 2.],\n",
       "       [1., 3.],\n",
       "       [1., 4.]])"
      ]
     },
     "execution_count": 6,
     "metadata": {},
     "output_type": "execute_result"
    }
   ],
   "source": [
    "x[0:5]"
   ]
  },
  {
   "cell_type": "code",
   "execution_count": 8,
   "id": "6b89446a",
   "metadata": {},
   "outputs": [
    {
     "data": {
      "text/plain": [
       "array([1., 1.])"
      ]
     },
     "execution_count": 8,
     "metadata": {},
     "output_type": "execute_result"
    }
   ],
   "source": [
    "alpha = 0.0005\n",
    "theta = np.ones(n)\n",
    "\n",
    "theta"
   ]
  },
  {
   "cell_type": "code",
   "execution_count": 9,
   "id": "20b3367c",
   "metadata": {},
   "outputs": [
    {
     "data": {
      "text/plain": [
       "array([[ 1.,  1.,  1.,  1.,  1.,  1.,  1.,  1.,  1.,  1.,  1.,  1.,  1.,\n",
       "         1.,  1.,  1.,  1.,  1.,  1.,  1.,  1.,  1.,  1.,  1.,  1.,  1.,\n",
       "         1.,  1.,  1.,  1.,  1.,  1.,  1.,  1.,  1.,  1.,  1.,  1.,  1.,\n",
       "         1.,  1.,  1.,  1.,  1.,  1.,  1.,  1.,  1.,  1.,  1.,  1.,  1.,\n",
       "         1.,  1.,  1.,  1.,  1.,  1.,  1.,  1.,  1.,  1.,  1.,  1.,  1.,\n",
       "         1.,  1.,  1.,  1.,  1.,  1.,  1.,  1.,  1.,  1.,  1.,  1.,  1.,\n",
       "         1.,  1.,  1.,  1.,  1.,  1.,  1.,  1.,  1.,  1.,  1.,  1.,  1.,\n",
       "         1.,  1.,  1.,  1.,  1.,  1.,  1.,  1.,  1.],\n",
       "       [ 0.,  1.,  2.,  3.,  4.,  5.,  6.,  7.,  8.,  9., 10., 11., 12.,\n",
       "        13., 14., 15., 16., 17., 18., 19., 20., 21., 22., 23., 24., 25.,\n",
       "        26., 27., 28., 29., 30., 31., 32., 33., 34., 35., 36., 37., 38.,\n",
       "        39., 40., 41., 42., 43., 44., 45., 46., 47., 48., 49., 50., 51.,\n",
       "        52., 53., 54., 55., 56., 57., 58., 59., 60., 61., 62., 63., 64.,\n",
       "        65., 66., 67., 68., 69., 70., 71., 72., 73., 74., 75., 76., 77.,\n",
       "        78., 79., 80., 81., 82., 83., 84., 85., 86., 87., 88., 89., 90.,\n",
       "        91., 92., 93., 94., 95., 96., 97., 98., 99.]])"
      ]
     },
     "execution_count": 9,
     "metadata": {},
     "output_type": "execute_result"
    }
   ],
   "source": [
    "x.T"
   ]
  },
  {
   "cell_type": "code",
   "execution_count": 10,
   "id": "a54753f1",
   "metadata": {},
   "outputs": [
    {
     "data": {
      "text/plain": [
       "array([  1.,   2.,   3.,   4.,   5.,   6.,   7.,   8.,   9.,  10.,  11.,\n",
       "        12.,  13.,  14.,  15.,  16.,  17.,  18.,  19.,  20.,  21.,  22.,\n",
       "        23.,  24.,  25.,  26.,  27.,  28.,  29.,  30.,  31.,  32.,  33.,\n",
       "        34.,  35.,  36.,  37.,  38.,  39.,  40.,  41.,  42.,  43.,  44.,\n",
       "        45.,  46.,  47.,  48.,  49.,  50.,  51.,  52.,  53.,  54.,  55.,\n",
       "        56.,  57.,  58.,  59.,  60.,  61.,  62.,  63.,  64.,  65.,  66.,\n",
       "        67.,  68.,  69.,  70.,  71.,  72.,  73.,  74.,  75.,  76.,  77.,\n",
       "        78.,  79.,  80.,  81.,  82.,  83.,  84.,  85.,  86.,  87.,  88.,\n",
       "        89.,  90.,  91.,  92.,  93.,  94.,  95.,  96.,  97.,  98.,  99.,\n",
       "       100.])"
      ]
     },
     "execution_count": 10,
     "metadata": {},
     "output_type": "execute_result"
    }
   ],
   "source": [
    "best_guess = np.dot(x, theta)\n",
    "best_guess"
   ]
  },
  {
   "cell_type": "code",
   "execution_count": 11,
   "id": "cc68cad3",
   "metadata": {},
   "outputs": [
    {
     "data": {
      "text/plain": [
       "[Text(0.5, 0, 'x'),\n",
       " Text(0, 0.5, 'y'),\n",
       " Text(0.5, 1.0, 'Graph of y = 2.x + 100 + random.uniform(30)')]"
      ]
     },
     "execution_count": 11,
     "metadata": {},
     "output_type": "execute_result"
    },
    {
     "data": {
      "image/png": "[encoded data removed]",
      "text/plain": [
       "<Figure size 504x360 with 1 Axes>"
      ]
     },
     "metadata": {
      "needs_background": "light"
     },
     "output_type": "display_data"
    }
   ],
   "source": [
    "fig = plt.figure(figsize=(7,5))\n",
    "fig = sns.scatterplot(x=x[:,1], y=best_guess)\n",
    "fig = sns.scatterplot(x=x[:,1], y=y)\n",
    "fig.set(xlabel=\"x\", ylabel=\"y\", title='Graph of y = 2.x + 100 + random.uniform(30)')"
   ]
  },
  {
   "cell_type": "code",
   "execution_count": 12,
   "id": "c2e67a8d",
   "metadata": {},
   "outputs": [
    {
     "data": {
      "text/plain": [
       "array([-124.39401333, -106.89961201, -102.88468012, -103.48878364,\n",
       "       -111.82430845, -128.40097281, -113.08092009, -124.90112395,\n",
       "       -123.0905753 , -136.49816556, -126.97425037, -138.25244838,\n",
       "       -121.14901799, -114.27353048, -113.40534134, -120.38555049,\n",
       "       -120.16953804, -131.51402698, -146.54676867, -131.88728185,\n",
       "       -130.50292496, -132.76589282, -139.71643503, -127.65111071,\n",
       "       -124.64398921, -129.69590803, -143.1582427 , -130.72306716,\n",
       "       -155.37128595, -128.04115073, -148.93157204, -134.00675794,\n",
       "       -144.45886214, -155.55848141, -133.71472528, -137.1925838 ,\n",
       "       -137.79109956, -139.04170728, -161.68303479, -149.29182024,\n",
       "       -156.65160723, -144.48106142, -156.9620648 , -145.44503418,\n",
       "       -152.0998732 , -147.38337754, -151.67399244, -150.42835228,\n",
       "       -160.37980997, -167.39552431, -157.56524389, -162.65551577,\n",
       "       -155.98895698, -171.75527115, -176.17238725, -179.0236761 ,\n",
       "       -174.39989944, -157.07999989, -180.37109624, -183.83613236,\n",
       "       -181.32486366, -164.18696463, -173.02285753, -180.4204864 ,\n",
       "       -165.4445189 , -173.83270105, -165.26133275, -180.66008414,\n",
       "       -180.68184286, -183.41823459, -170.50587381, -184.76309661,\n",
       "       -190.50643736, -199.4684876 , -202.90573318, -178.55220447,\n",
       "       -191.71291673, -181.87910479, -178.98860129, -184.42211847,\n",
       "       -207.34779741, -205.30955018, -196.19764836, -184.67035855,\n",
       "       -187.28298543, -210.35316525, -198.37416896, -196.89477192,\n",
       "       -189.02867641, -208.6092398 , -194.69290141, -211.01546804,\n",
       "       -192.19558553, -221.43955519, -198.57114888, -202.54407581,\n",
       "       -197.58489434, -214.07969496, -222.8848822 , -198.32988306])"
      ]
     },
     "execution_count": 12,
     "metadata": {},
     "output_type": "execute_result"
    }
   ],
   "source": [
    "loss = best_guess - y\n",
    "loss"
   ]
  },
  {
   "cell_type": "code",
   "execution_count": 13,
   "id": "da7f2a7d",
   "metadata": {},
   "outputs": [
    {
     "data": {
      "text/plain": [
       "13432.542474051112"
      ]
     },
     "execution_count": 13,
     "metadata": {},
     "output_type": "execute_result"
    }
   ],
   "source": [
    "cost = np.sum(loss ** 2) / (2 * m)\n",
    "cost"
   ]
  },
  {
   "cell_type": "code",
   "execution_count": 14,
   "id": "f4a81e67",
   "metadata": {},
   "outputs": [
    {
     "data": {
      "text/plain": [
       "array([ -161.05075351, -8811.71514288])"
      ]
     },
     "execution_count": 14,
     "metadata": {},
     "output_type": "execute_result"
    }
   ],
   "source": [
    "gradient = np.ones(n)\n",
    "gradient[0] = 0\n",
    "gradient[1] = 0\n",
    "for i in range(len(x)):\n",
    "    gradient[0] += -(1 / m) *(y[i] - ((theta[0] * x[i,1]) + theta[1]))\n",
    "    gradient[1] += -(1 / m) * x[i,1] * (y[i] - ((theta[0] * x[i,1])+ theta[1]))\n",
    "gradient"
   ]
  },
  {
   "cell_type": "code",
   "execution_count": 15,
   "id": "28ae1d7c",
   "metadata": {},
   "outputs": [
    {
     "data": {
      "text/plain": [
       "array([ -161.05075351, -8811.71514288])"
      ]
     },
     "execution_count": 15,
     "metadata": {},
     "output_type": "execute_result"
    }
   ],
   "source": [
    "gradient = np.dot(x.T, loss) / m\n",
    "gradient"
   ]
  },
  {
   "cell_type": "code",
   "execution_count": 16,
   "id": "47071686",
   "metadata": {},
   "outputs": [
    {
     "data": {
      "text/plain": [
       "array([1.08052538, 5.40585757])"
      ]
     },
     "execution_count": 16,
     "metadata": {},
     "output_type": "execute_result"
    }
   ],
   "source": [
    "theta = theta - alpha * gradient\n",
    "theta"
   ]
  },
  {
   "cell_type": "code",
   "execution_count": 17,
   "id": "daa7bb7a",
   "metadata": {},
   "outputs": [],
   "source": [
    "best_guess = np.dot(x, theta)"
   ]
  },
  {
   "cell_type": "code",
   "execution_count": 19,
   "id": "6aa553a4",
   "metadata": {},
   "outputs": [
    {
     "data": {
      "text/plain": [
       "[Text(0.5, 0, 'x'),\n",
       " Text(0, 0.5, 'y'),\n",
       " Text(0.5, 1.0, 'Graph of y = 2.x + 100 + random.uniform(30)')]"
      ]
     },
     "execution_count": 19,
     "metadata": {},
     "output_type": "execute_result"
    },
    {
     "data": {
      "image/png": "[encoded data removed]",
      "text/plain": [
       "<Figure size 504x360 with 1 Axes>"
      ]
     },
     "metadata": {
      "needs_background": "light"
     },
     "output_type": "display_data"
    }
   ],
   "source": [
    "fig2 = plt.figure(figsize=(7, 5))\n",
    "fig2 = sns.scatterplot(x=x[:,1], y=best_guess)\n",
    "fig2 = sns.scatterplot(x=x[:,1], y=y)\n",
    "fig2.set(xlabel=\"x\", ylabel=\"y\", title='Graph of y = 2.x + 100 + random.uniform(30)')"
   ]
  },
  {
   "cell_type": "code",
   "execution_count": 20,
   "id": "87566889",
   "metadata": {},
   "outputs": [
    {
     "name": "stdout",
     "output_type": "stream",
     "text": [
      "cost =  164.68197875132438\n"
     ]
    },
    {
     "data": {
      "image/png": "[encoded data removed]",
      "text/plain": [
       "<Figure size 504x360 with 1 Axes>"
      ]
     },
     "metadata": {
      "needs_background": "light"
     },
     "output_type": "display_data"
    }
   ],
   "source": [
    "numIterations = 10000\n",
    "for i in range(0, numIterations):\n",
    "    best_guess = np.dot(x, theta)\n",
    "    loss = best_guess - y\n",
    "    cost = np.sum(loss ** 2) / (2 * m)\n",
    "    gradient = np.dot(x.T, loss) / m\n",
    "    theta = theta - alpha * gradient\n",
    "\n",
    "fig2 = plt.figure(figsize=(7,5))\n",
    "fig2 = sns.scatterplot(x=x[:,1], y=best_guess)\n",
    "fig2 = sns.scatterplot(x=x[:,1], y=y)\n",
    "fig2.set(xlabel = \"x\", ylabel = \"y\", title = 'Graph of y = 2.x + 100 + random.uniform(30)')\n",
    "print(\"cost = \", cost)"
   ]
  },
  {
   "cell_type": "code",
   "execution_count": 21,
   "id": "73606ea5",
   "metadata": {},
   "outputs": [
    {
     "data": {
      "text/plain": [
       "array([80.92082988,  2.47883465])"
      ]
     },
     "execution_count": 21,
     "metadata": {},
     "output_type": "execute_result"
    }
   ],
   "source": [
    "theta"
   ]
  },
  {
   "cell_type": "code",
   "execution_count": 22,
   "id": "d28d70c0",
   "metadata": {},
   "outputs": [],
   "source": [
    "def gradientDescent(x, y, theta, alpha, numIterations):\n",
    "    x_length, x_width = np.shape(x)\n",
    "    \n",
    "    if(x_length != y.size):\n",
    "        raise Exception(\"Error in gradientDescent : Length of x and y data inputs are different \")\n",
    "    else:\n",
    "        m = x_length\n",
    "        \n",
    "    if(x_width < 2):\n",
    "        raise Exception(\"Error in gradientDescent : x input data must contain at least two columns with x=[0,n]\")\n",
    "        \n",
    "    for i in range(0, numIterations):\n",
    "        best_guess = np.dot(x, theta)\n",
    "        loss = best_guess - y\n",
    "        cost = np.sum(loss ** 2) / (2 * m)\n",
    "        gradient = np.dot(x.T, loss) / m\n",
    "        theta = theta - alpha * gradient\n",
    "    return theta"
   ]
  },
  {
   "cell_type": "code",
   "execution_count": 23,
   "id": "249614ff",
   "metadata": {},
   "outputs": [],
   "source": [
    "x, y = genData(numPoints = 100, A = 2, K = 100, variance= 30)\n",
    "theta = np.ones(n)"
   ]
  },
  {
   "cell_type": "code",
   "execution_count": 24,
   "id": "417a5617",
   "metadata": {
    "scrolled": true
   },
   "outputs": [
    {
     "data": {
      "text/plain": [
       "array([85.10577111,  2.44466895])"
      ]
     },
     "execution_count": 24,
     "metadata": {},
     "output_type": "execute_result"
    }
   ],
   "source": [
    "theta = gradientDescent(x, y, theta, alpha = 0.0005, numIterations= 10000)\n",
    "theta"
   ]
  },
  {
   "cell_type": "code",
   "execution_count": 26,
   "id": "650e892d",
   "metadata": {},
   "outputs": [
    {
     "data": {
      "image/png": "[encoded data removed]",
      "text/plain": [
       "<Figure size 504x360 with 1 Axes>"
      ]
     },
     "metadata": {
      "needs_background": "light"
     },
     "output_type": "display_data"
    }
   ],
   "source": [
    "best_guess = np.dot(x, theta)\n",
    "fig = plt.figure(figsize=(7,5))\n",
    "fig = sns.scatterplot(x=x[:,1], y=best_guess)\n",
    "fig = sns.scatterplot(x=x[:,1], y=y)"
   ]
  },
  {
   "cell_type": "code",
   "execution_count": 31,
   "id": "f3c7a087",
   "metadata": {},
   "outputs": [],
   "source": [
    "def genDataM(numPoints, numDimensions, x_upper, thetas, variance):\n",
    "    x = np.random.rand(numPoints, numDimensions)\n",
    "    y = np.zeros(shape = numPoints)\n",
    "    for i in range(0, numPoints):\n",
    "        x[i][0] = 1\n",
    "        y[i] = 0\n",
    "        for j in range(0, len(thetas)):\n",
    "            y[i] += x[i,j] * thetas[j]\n",
    "        y[i] += random.uniform(0,1) * variance\n",
    "    return x,y"
   ]
  },
  {
   "cell_type": "code",
   "execution_count": 32,
   "id": "eb202ccf",
   "metadata": {},
   "outputs": [
    {
     "data": {
      "text/plain": [
       "array([[1.        , 0.79238251, 0.67713377],\n",
       "       [1.        , 0.720214  , 0.36700809],\n",
       "       [1.        , 0.71658075, 0.31798174],\n",
       "       [1.        , 0.00163477, 0.15502943],\n",
       "       [1.        , 0.83611279, 0.77042475]])"
      ]
     },
     "execution_count": 32,
     "metadata": {},
     "output_type": "execute_result"
    }
   ],
   "source": [
    "#step 1\n",
    "x, y = genDataM(numPoints=500, numDimensions=3,x_upper=100, thetas=[1,5,3], variance=5)\n",
    "theta = np.ones(3)\n",
    "x[0:5]"
   ]
  },
  {
   "cell_type": "code",
   "execution_count": 33,
   "id": "38648da8",
   "metadata": {},
   "outputs": [
    {
     "name": "stdout",
     "output_type": "stream",
     "text": [
      "Using matplotlib backend: MacOSX\n"
     ]
    },
    {
     "data": {
      "text/plain": [
       "<mpl_toolkits.mplot3d.art3d.Path3DCollection at 0x154259130>"
      ]
     },
     "execution_count": 33,
     "metadata": {},
     "output_type": "execute_result"
    }
   ],
   "source": [
    "#step 2\n",
    "from mpl_toolkits.mplot3d import Axes3D\n",
    "import matplotlib.pyplot as plt\n",
    "%matplotlib\n",
    "fig = plt.figure(figsize=(12,12))\n",
    "ax = fig.add_subplot(111, projection='3d')\n",
    "ax.scatter(x[:,1],x[:,2],y)"
   ]
  },
  {
   "cell_type": "code",
   "execution_count": 46,
   "id": "15384551",
   "metadata": {},
   "outputs": [
    {
     "data": {
      "text/plain": [
       "array([3.70538903, 4.98227472, 2.67237812])"
      ]
     },
     "execution_count": 46,
     "metadata": {},
     "output_type": "execute_result"
    }
   ],
   "source": [
    "#step 3\n",
    "theta = gradientDescent(x, y, theta, alpha=0.0005, numIterations = 50000)\n",
    "theta"
   ]
  },
  {
   "cell_type": "code",
   "execution_count": 47,
   "id": "271c5ae2",
   "metadata": {},
   "outputs": [
    {
     "data": {
      "text/plain": [
       "<mpl_toolkits.mplot3d.art3d.Path3DCollection at 0x15448bfd0>"
      ]
     },
     "execution_count": 47,
     "metadata": {},
     "output_type": "execute_result"
    },
    {
     "name": "stderr",
     "output_type": "stream",
     "text": [
      "2021-08-16 14:19:59.391 python[4256:198413] *** Assertion failure in +[NSEvent otherEventWithType:location:modifierFlags:timestamp:windowNumber:context:subtype:data1:data2:], NSEvent.m:737\n",
      "2021-08-16 14:19:59.519 python[4256:198413] *** Assertion failure in +[NSEvent otherEventWithType:location:modifierFlags:timestamp:windowNumber:context:subtype:data1:data2:], NSEvent.m:737\n",
      "2021-08-16 14:19:59.731 python[4256:198413] *** Assertion failure in +[NSEvent otherEventWithType:location:modifierFlags:timestamp:windowNumber:context:subtype:data1:data2:], NSEvent.m:737\n",
      "2021-08-16 14:20:01.281 python[4256:198413] *** Assertion failure in +[NSEvent otherEventWithType:location:modifierFlags:timestamp:windowNumber:context:subtype:data1:data2:], NSEvent.m:737\n",
      "2021-08-16 14:20:03.611 python[4256:198413] *** Assertion failure in +[NSEvent otherEventWithType:location:modifierFlags:timestamp:windowNumber:context:subtype:data1:data2:], NSEvent.m:737\n",
      "2021-08-16 14:20:07.565 python[4256:198413] *** Assertion failure in +[NSEvent otherEventWithType:location:modifierFlags:timestamp:windowNumber:context:subtype:data1:data2:], NSEvent.m:737\n",
      "2021-08-16 14:20:08.337 python[4256:198413] *** Assertion failure in +[NSEvent otherEventWithType:location:modifierFlags:timestamp:windowNumber:context:subtype:data1:data2:], NSEvent.m:737\n",
      "2021-08-16 14:20:17.643 python[4256:198413] *** Assertion failure in +[NSEvent otherEventWithType:location:modifierFlags:timestamp:windowNumber:context:subtype:data1:data2:], NSEvent.m:737\n",
      "2021-08-16 14:20:19.202 python[4256:198413] *** Assertion failure in +[NSEvent otherEventWithType:location:modifierFlags:timestamp:windowNumber:context:subtype:data1:data2:], NSEvent.m:737\n"
     ]
    }
   ],
   "source": [
    "#step 4\n",
    "best_guess = np.dot(x, theta)\n",
    "ax.scatter(x[:,1],x[:,2],best_guess)"
   ]
  },
  {
   "cell_type": "code",
   "execution_count": null,
   "id": "eea43c86",
   "metadata": {},
   "outputs": [],
   "source": []
  }
 ],
 "metadata": {
  "kernelspec": {
   "display_name": "Python 3 (ipykernel)",
   "language": "python",
   "name": "python3"
  },
  "language_info": {
   "codemirror_mode": {
    "name": "ipython",
    "version": 3
   },
   "file_extension": ".py",
   "mimetype": "text/x-python",
   "name": "python",
   "nbconvert_exporter": "python",
   "pygments_lexer": "ipython3",
   "version": "3.9.6"
  }
 },
 "nbformat": 4,
 "nbformat_minor": 5
}
