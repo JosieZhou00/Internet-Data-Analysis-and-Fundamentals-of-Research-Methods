{
 "cells": [
  {
   "cell_type": "code",
   "execution_count": 4,
   "id": "bfb6b961",
   "metadata": {},
   "outputs": [],
   "source": [
    "import matplotlib.pyplot as plt\n",
    "from sklearn.datasets import make_blobs"
   ]
  },
  {
   "cell_type": "code",
   "execution_count": 5,
   "id": "4d5bcdeb",
   "metadata": {},
   "outputs": [],
   "source": [
    "# Step 1\n",
    "n_samples = 200           # (200) - Number of points we are going to model.\n",
    "cluster_1_centre = [2,2]  # [2,2] - Centre of the first cluster\n",
    "cluster_2_centre = [6,6]  # [6,6] - Centre of cluster 2\n",
    "spread = 1                # (1) - How spread-out the two clusters (blobs) are\n",
    "\n",
    "data, labels = make_blobs(n_samples=n_samples,\n",
    "                          centers=(cluster_1_centre, cluster_2_centre),\n",
    "                          cluster_std = spread, \n",
    "                          random_state=0)"
   ]
  },
  {
   "cell_type": "code",
   "execution_count": 6,
   "id": "b501c13d",
   "metadata": {},
   "outputs": [
    {
     "data": {
      "text/plain": [
       "array([[4.26975462, 0.54563433],\n",
       "       [6.27451636, 5.10908492],\n",
       "       [2.06651722, 2.3024719 ],\n",
       "       [0.77456448, 2.84436298],\n",
       "       [1.19659034, 1.31045022]])"
      ]
     },
     "execution_count": 6,
     "metadata": {},
     "output_type": "execute_result"
    }
   ],
   "source": [
    "data[0:5]"
   ]
  },
  {
   "cell_type": "code",
   "execution_count": 7,
   "id": "d3520bb5",
   "metadata": {},
   "outputs": [
    {
     "data": {
      "text/plain": [
       "array([0, 1, 0, 0, 0])"
      ]
     },
     "execution_count": 7,
     "metadata": {},
     "output_type": "execute_result"
    }
   ],
   "source": [
    "labels[0:5]"
   ]
  },
  {
   "cell_type": "code",
   "execution_count": 8,
   "id": "44f01601",
   "metadata": {},
   "outputs": [],
   "source": [
    "colours = ('green', 'red')"
   ]
  },
  {
   "cell_type": "code",
   "execution_count": 9,
   "id": "59242efb",
   "metadata": {},
   "outputs": [],
   "source": [
    "fig, ax = plt.subplots()\n",
    "for n_class in range(2):\n",
    "    plt.scatter(data[labels==n_class][:,0],\n",
    "               data[labels==n_class][:,1],\n",
    "               c=colours[n_class],\n",
    "               s=20,\n",
    "               label=str(n_class))"
   ]
  },
  {
   "cell_type": "code",
   "execution_count": 10,
   "id": "f184838e",
   "metadata": {},
   "outputs": [],
   "source": [
    "# Step 2\n",
    "theta_0 = -4 # this is the bias term for the perceptron \n",
    "theta_1 = 2.3\n",
    "theta_2 = 4.2"
   ]
  },
  {
   "cell_type": "code",
   "execution_count": 11,
   "id": "fbc706f7",
   "metadata": {},
   "outputs": [],
   "source": [
    "net_input = theta_0 + theta_1 * data[:,0] + theta_2 * data[:,1] \n",
    "classification = list(map( lambda x : 1 if x>0 else 0, net_input))"
   ]
  },
  {
   "cell_type": "code",
   "execution_count": 12,
   "id": "1b06201d",
   "metadata": {},
   "outputs": [
    {
     "name": "stdout",
     "output_type": "stream",
     "text": [
      "[1, 1, 1, 1, 1, 1, 1, 1, 1, 1, 1, 1, 1, 1, 1, 1, 1, 1, 1, 1, 1, 1, 1, 1, 1, 1, 1, 1, 0, 1, 1, 1, 1, 1, 1, 1, 1, 1, 1, 1, 1, 1, 1, 1, 1, 1, 1, 1, 1, 1, 1, 1, 1, 1, 1, 1, 1, 1, 1, 1, 1, 1, 1, 1, 1, 1, 1, 1, 1, 1, 1, 1, 1, 1, 1, 1, 1, 1, 1, 1, 1, 1, 1, 1, 1, 1, 1, 1, 1, 1, 1, 1, 1, 1, 1, 1, 1, 1, 1, 1, 1, 1, 0, 1, 1, 1, 1, 1, 1, 1, 1, 1, 1, 1, 1, 1, 1, 1, 1, 1, 1, 1, 1, 1, 1, 1, 1, 0, 1, 1, 1, 1, 1, 1, 1, 1, 1, 1, 1, 1, 1, 1, 1, 1, 1, 1, 1, 1, 1, 1, 1, 1, 1, 1, 1, 1, 1, 1, 1, 1, 1, 1, 1, 1, 1, 1, 1, 1, 1, 1, 1, 1, 1, 1, 1, 1, 1, 1, 1, 1, 1, 1, 1, 1, 1, 1, 1, 1, 1, 1, 1, 1, 1, 1, 1, 1, 1, 1, 1, 1]\n"
     ]
    }
   ],
   "source": [
    "print(classification)"
   ]
  },
  {
   "cell_type": "code",
   "execution_count": 13,
   "id": "c912ef50",
   "metadata": {},
   "outputs": [
    {
     "data": {
      "text/plain": [
       "103"
      ]
     },
     "execution_count": 13,
     "metadata": {},
     "output_type": "execute_result"
    }
   ],
   "source": [
    "number_correct = sum(x == y for x,y in zip(labels,classification))\n",
    "number_correct"
   ]
  },
  {
   "cell_type": "code",
   "execution_count": 14,
   "id": "df43d561",
   "metadata": {},
   "outputs": [
    {
     "data": {
      "text/plain": [
       "0.515"
      ]
     },
     "execution_count": 14,
     "metadata": {},
     "output_type": "execute_result"
    }
   ],
   "source": [
    "score = number_correct / n_samples\n",
    "score"
   ]
  },
  {
   "cell_type": "code",
   "execution_count": 15,
   "id": "27761fa6",
   "metadata": {},
   "outputs": [],
   "source": [
    "from sklearn.model_selection import train_test_split \n",
    "datasets = train_test_split(data,\n",
    "                            labels, \n",
    "                            test_size=0.2)\n",
    "train_data, test_data, train_labels, test_labels = datasets"
   ]
  },
  {
   "cell_type": "code",
   "execution_count": 16,
   "id": "04219276",
   "metadata": {},
   "outputs": [],
   "source": [
    "from sklearn.linear_model import Perceptron\n",
    "p = Perceptron(random_state=42, max_iter=500, tol=1) \n",
    "p.fit(train_data, train_labels);"
   ]
  },
  {
   "cell_type": "code",
   "execution_count": 17,
   "id": "100d1ebd",
   "metadata": {},
   "outputs": [
    {
     "name": "stdout",
     "output_type": "stream",
     "text": [
      "theta 1 =  1.4553230163541455\n",
      "theta_2 =  3.1129255405497824\n"
     ]
    }
   ],
   "source": [
    "print('theta 1 = ', p.coef_[0][0]) \n",
    "print('theta_2 = ', p.coef_[0][1])"
   ]
  },
  {
   "cell_type": "code",
   "execution_count": 18,
   "id": "5b00ec00",
   "metadata": {},
   "outputs": [
    {
     "name": "stdout",
     "output_type": "stream",
     "text": [
      "theta_0 =  -18.0\n"
     ]
    }
   ],
   "source": [
    "print( 'theta_0 = ', p.intercept_[0])"
   ]
  },
  {
   "cell_type": "code",
   "execution_count": 19,
   "id": "0bac6ebd",
   "metadata": {},
   "outputs": [
    {
     "name": "stdout",
     "output_type": "stream",
     "text": [
      "score on train data:  1.0\n",
      "score on test data:  1.0\n"
     ]
    }
   ],
   "source": [
    "from sklearn.metrics import accuracy_score\n",
    "\n",
    "predictions_train = p.predict(train_data)\n",
    "predictions_test = p.predict(test_data)\n",
    "train_score = accuracy_score(predictions_train, train_labels) \n",
    "print(\"score on train data: \", train_score)\n",
    "test_score = accuracy_score(predictions_test, test_labels) \n",
    "print(\"score on test data: \", test_score)"
   ]
  },
  {
   "cell_type": "code",
   "execution_count": 21,
   "id": "50d96756",
   "metadata": {},
   "outputs": [],
   "source": [
    "import tensorflow.keras as keras\n",
    "from tensorflow.keras.models import Sequential\n",
    "from tensorflow.keras.layers import Conv2D,MaxPooling2D,Dense,Flatten,Dropout \n",
    "from tensorflow.keras.optimizers import Adam\n",
    "import numpy as np\n",
    "import matplotlib.pyplot as plt\n",
    "import pandas as pd"
   ]
  },
  {
   "cell_type": "code",
   "execution_count": 22,
   "id": "8b0029b9",
   "metadata": {},
   "outputs": [
    {
     "data": {
      "text/plain": [
       "'2.4.0'"
      ]
     },
     "execution_count": 22,
     "metadata": {},
     "output_type": "execute_result"
    }
   ],
   "source": [
    "keras.__version__"
   ]
  },
  {
   "cell_type": "code",
   "execution_count": 23,
   "id": "71d8e6ee",
   "metadata": {},
   "outputs": [],
   "source": [
    "fashion = keras.datasets.fashion_mnist \n",
    "(train_images,train_labels),(test_images,test_labels) = fashion.load_data()"
   ]
  },
  {
   "cell_type": "code",
   "execution_count": 24,
   "id": "94c52c67",
   "metadata": {},
   "outputs": [
    {
     "name": "stdout",
     "output_type": "stream",
     "text": [
      "(60000, 28, 28)\n",
      "(10000, 28, 28)\n"
     ]
    }
   ],
   "source": [
    "print(train_images.shape) \n",
    "print(test_images.shape)"
   ]
  },
  {
   "cell_type": "code",
   "execution_count": 25,
   "id": "4fa06643",
   "metadata": {},
   "outputs": [],
   "source": [
    "class_names = ['T-shirt/top', 'Trouser', 'Pullover', 'Dress','Coat', \n",
    "               'Sandal', 'Shirt', 'Sneaker', 'Bag', 'Ankle boot']"
   ]
  },
  {
   "cell_type": "code",
   "execution_count": 26,
   "id": "ea06e029",
   "metadata": {},
   "outputs": [
    {
     "data": {
      "image/png": "[encoded data removed]",
      "text/plain": [
       "<Figure size 640x480 with 1 Axes>"
      ]
     },
     "metadata": {},
     "output_type": "display_data"
    },
    {
     "data": {
      "image/png": "[encoded data removed]",
      "text/plain": [
       "<Figure size 640x480 with 1 Axes>"
      ]
     },
     "metadata": {},
     "output_type": "display_data"
    }
   ],
   "source": [
    "image_number = 5000\n",
    "plt.figure()\n",
    "plt.imshow(train_images[image_number], cmap=plt.cm.binary) \n",
    "plt.xlabel(class_names[train_labels[image_number]]) \n",
    "plt.grid(False)\n",
    "plt.show()"
   ]
  },
  {
   "cell_type": "code",
   "execution_count": 27,
   "id": "38815a8b",
   "metadata": {},
   "outputs": [],
   "source": [
    "train_images = keras.utils.normalize(train_images, axis=1) \n",
    "test_images = keras.utils.normalize(test_images, axis=1)"
   ]
  },
  {
   "cell_type": "code",
   "execution_count": 28,
   "id": "d31ed5d6",
   "metadata": {},
   "outputs": [
    {
     "data": {
      "text/plain": [
       "array([0.        , 0.        , 0.        , 0.        , 0.        ,\n",
       "       0.00163724, 0.        , 0.        , 0.        , 0.        ,\n",
       "       0.04180052, 0.18134076, 0.10028745, 0.05368613, 0.04603788,\n",
       "       0.04237663, 0.08378428, 0.16247149, 0.13003419, 0.01660002,\n",
       "       0.        , 0.        , 0.        , 0.        , 0.        ,\n",
       "       0.        , 0.        , 0.        ])"
      ]
     },
     "execution_count": 28,
     "metadata": {},
     "output_type": "execute_result"
    }
   ],
   "source": [
    "train_images[1][0]"
   ]
  },
  {
   "cell_type": "code",
   "execution_count": 29,
   "id": "8e265f61",
   "metadata": {},
   "outputs": [],
   "source": [
    "model = keras.Sequential([ \n",
    "    keras.layers.Flatten(input_shape=(28, 28)), \n",
    "    keras.layers.Dense(128, activation='relu'), \n",
    "    keras.layers.Dense(10, activation='softmax')\n",
    "]);"
   ]
  },
  {
   "cell_type": "code",
   "execution_count": 30,
   "id": "911c0026",
   "metadata": {},
   "outputs": [
    {
     "name": "stdout",
     "output_type": "stream",
     "text": [
      "Model: \"sequential\"\n",
      "_________________________________________________________________\n",
      "Layer (type)                 Output Shape              Param #   \n",
      "=================================================================\n",
      "flatten (Flatten)            (None, 784)               0         \n",
      "_________________________________________________________________\n",
      "dense (Dense)                (None, 128)               100480    \n",
      "_________________________________________________________________\n",
      "dense_1 (Dense)              (None, 10)                1290      \n",
      "=================================================================\n",
      "Total params: 101,770\n",
      "Trainable params: 101,770\n",
      "Non-trainable params: 0\n",
      "_________________________________________________________________\n"
     ]
    }
   ],
   "source": [
    "model.summary()"
   ]
  },
  {
   "cell_type": "code",
   "execution_count": 31,
   "id": "069cc73e",
   "metadata": {},
   "outputs": [],
   "source": [
    "model.compile(optimizer='adam', \n",
    "              loss='sparse_categorical_crossentropy',\n",
    "              metrics=['accuracy'])"
   ]
  },
  {
   "cell_type": "code",
   "execution_count": 33,
   "id": "8fa1ef07",
   "metadata": {},
   "outputs": [
    {
     "name": "stdout",
     "output_type": "stream",
     "text": [
      "Epoch 1/10\n",
      "1875/1875 [==============================] - 1s 791us/step - loss: 0.2750 - accuracy: 0.8970\n",
      "Epoch 2/10\n",
      "1875/1875 [==============================] - 2s 861us/step - loss: 0.2617 - accuracy: 0.9021\n",
      "Epoch 3/10\n",
      "1875/1875 [==============================] - 2s 833us/step - loss: 0.2505 - accuracy: 0.9071\n",
      "Epoch 4/10\n",
      "1875/1875 [==============================] - 1s 771us/step - loss: 0.2387 - accuracy: 0.9096\n",
      "Epoch 5/10\n",
      "1875/1875 [==============================] - 1s 772us/step - loss: 0.2295 - accuracy: 0.9138\n",
      "Epoch 6/10\n",
      "1875/1875 [==============================] - 1s 779us/step - loss: 0.2223 - accuracy: 0.9168\n",
      "Epoch 7/10\n",
      "1875/1875 [==============================] - 1s 773us/step - loss: 0.2136 - accuracy: 0.9195\n",
      "Epoch 8/10\n",
      "1875/1875 [==============================] - 1s 771us/step - loss: 0.2046 - accuracy: 0.9229\n",
      "Epoch 9/10\n",
      "1875/1875 [==============================] - 1s 767us/step - loss: 0.1986 - accuracy: 0.9246\n",
      "Epoch 10/10\n",
      "1875/1875 [==============================] - 1s 785us/step - loss: 0.1906 - accuracy: 0.9280\n"
     ]
    },
    {
     "data": {
      "text/plain": [
       "<tensorflow.python.keras.callbacks.History at 0x7f93f6216790>"
      ]
     },
     "execution_count": 33,
     "metadata": {},
     "output_type": "execute_result"
    }
   ],
   "source": [
    "model.fit(train_images, train_labels, epochs=10)"
   ]
  },
  {
   "cell_type": "code",
   "execution_count": 34,
   "id": "1cdd08f5",
   "metadata": {},
   "outputs": [
    {
     "name": "stdout",
     "output_type": "stream",
     "text": [
      "313/313 [==============================] - 0s 504us/step - loss: 0.3635 - accuracy: 0.8774\n",
      "\n",
      "Test accuracy: 0.8773999810218811\n"
     ]
    }
   ],
   "source": [
    "test_loss, test_acc = model.evaluate(test_images, test_labels) \n",
    "print('\\nTest accuracy:', test_acc)"
   ]
  },
  {
   "cell_type": "code",
   "execution_count": 35,
   "id": "f6a08f9f",
   "metadata": {},
   "outputs": [
    {
     "name": "stdout",
     "output_type": "stream",
     "text": [
      "Label =  6  :  Shirt\n"
     ]
    }
   ],
   "source": [
    "test_item = 92\n",
    "label = test_labels[test_item]\n",
    "print('Label = ', label, ' : ', class_names[label])"
   ]
  },
  {
   "cell_type": "code",
   "execution_count": 36,
   "id": "0c0b2a61",
   "metadata": {},
   "outputs": [
    {
     "data": {
      "text/plain": [
       "Text(0.5, 0, 'Shirt')"
      ]
     },
     "execution_count": 36,
     "metadata": {},
     "output_type": "execute_result"
    }
   ],
   "source": [
    "test_image = test_images[test_item] \n",
    "plt.imshow(test_image, cmap=plt.cm.binary) \n",
    "plt.xlabel(class_names[test_labels[test_item]])"
   ]
  },
  {
   "cell_type": "code",
   "execution_count": 37,
   "id": "adc7b87d",
   "metadata": {},
   "outputs": [],
   "source": [
    "predictions = model.predict(test_images)"
   ]
  },
  {
   "cell_type": "code",
   "execution_count": 38,
   "id": "0b6a490e",
   "metadata": {},
   "outputs": [
    {
     "data": {
      "text/plain": [
       "array([1.2526651e-06, 2.8779576e-09, 5.5143666e-03, 2.4339597e-05,\n",
       "       2.2569871e-02, 3.9260282e-08, 9.7189009e-01, 4.6411944e-11,\n",
       "       5.4240761e-08, 1.8294300e-11], dtype=float32)"
      ]
     },
     "execution_count": 38,
     "metadata": {},
     "output_type": "execute_result"
    }
   ],
   "source": [
    "predictions[test_item]"
   ]
  },
  {
   "cell_type": "code",
   "execution_count": 39,
   "id": "39f20d89",
   "metadata": {},
   "outputs": [],
   "source": [
    "df = pd.DataFrame(predictions[test_item]) \n",
    "ax = df.plot.bar()"
   ]
  },
  {
   "cell_type": "code",
   "execution_count": 40,
   "id": "941d3aad",
   "metadata": {},
   "outputs": [
    {
     "name": "stdout",
     "output_type": "stream",
     "text": [
      "Predicted label =  6  :  Shirt\n"
     ]
    }
   ],
   "source": [
    "predicted_label = np.argmax(predictions[test_item])\n",
    "print('Predicted label = ', predicted_label, ' : ', class_names[predicted_label])"
   ]
  },
  {
   "cell_type": "code",
   "execution_count": null,
   "id": "fe5bedfa",
   "metadata": {},
   "outputs": [],
   "source": []
  }
 ],
 "metadata": {
  "kernelspec": {
   "display_name": "Python 3",
   "language": "python",
   "name": "python3"
  },
  "language_info": {
   "codemirror_mode": {
    "name": "ipython",
    "version": 3
   },
   "file_extension": ".py",
   "mimetype": "text/x-python",
   "name": "python",
   "nbconvert_exporter": "python",
   "pygments_lexer": "ipython3",
   "version": "3.8.11"
  }
 },
 "nbformat": 4,
 "nbformat_minor": 5
}
